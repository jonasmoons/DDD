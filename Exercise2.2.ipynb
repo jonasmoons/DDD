{
 "cells": [
  {
   "cell_type": "code",
   "execution_count": 3,
   "metadata": {},
   "outputs": [
    {
     "data": {
      "text/html": [
       "<div>\n",
       "<style scoped>\n",
       "    .dataframe tbody tr th:only-of-type {\n",
       "        vertical-align: middle;\n",
       "    }\n",
       "\n",
       "    .dataframe tbody tr th {\n",
       "        vertical-align: top;\n",
       "    }\n",
       "\n",
       "    .dataframe thead th {\n",
       "        text-align: right;\n",
       "    }\n",
       "</style>\n",
       "<table border=\"1\" class=\"dataframe\">\n",
       "  <thead>\n",
       "    <tr style=\"text-align: right;\">\n",
       "      <th></th>\n",
       "      <th>id</th>\n",
       "      <th>gender</th>\n",
       "      <th>instagram_followers</th>\n",
       "      <th>linkedin_con</th>\n",
       "      <th>texts_yesterday</th>\n",
       "      <th>phones_owned</th>\n",
       "      <th>apps_phone</th>\n",
       "      <th>os_phone</th>\n",
       "      <th>like_social</th>\n",
       "      <th>like_tech</th>\n",
       "    </tr>\n",
       "  </thead>\n",
       "  <tbody>\n",
       "    <tr>\n",
       "      <th>0</th>\n",
       "      <td>1</td>\n",
       "      <td>male</td>\n",
       "      <td>0.0</td>\n",
       "      <td>642.0</td>\n",
       "      <td>47.0</td>\n",
       "      <td>7.0</td>\n",
       "      <td>101.0</td>\n",
       "      <td>Android</td>\n",
       "      <td>Undecided</td>\n",
       "      <td>Undecided</td>\n",
       "    </tr>\n",
       "    <tr>\n",
       "      <th>1</th>\n",
       "      <td>2</td>\n",
       "      <td>female</td>\n",
       "      <td>155.0</td>\n",
       "      <td>157.0</td>\n",
       "      <td>150.0</td>\n",
       "      <td>8.0</td>\n",
       "      <td>44.0</td>\n",
       "      <td>iOS</td>\n",
       "      <td>Agree</td>\n",
       "      <td>Agree</td>\n",
       "    </tr>\n",
       "    <tr>\n",
       "      <th>2</th>\n",
       "      <td>3</td>\n",
       "      <td>female</td>\n",
       "      <td>169.0</td>\n",
       "      <td>119.0</td>\n",
       "      <td>20.0</td>\n",
       "      <td>5.0</td>\n",
       "      <td>65.0</td>\n",
       "      <td>iOS</td>\n",
       "      <td>Agree</td>\n",
       "      <td>Agree</td>\n",
       "    </tr>\n",
       "    <tr>\n",
       "      <th>3</th>\n",
       "      <td>4</td>\n",
       "      <td>male</td>\n",
       "      <td>NaN</td>\n",
       "      <td>150.0</td>\n",
       "      <td>100.0</td>\n",
       "      <td>5.0</td>\n",
       "      <td>67.0</td>\n",
       "      <td>Android</td>\n",
       "      <td>Agree</td>\n",
       "      <td>Strongly agree</td>\n",
       "    </tr>\n",
       "    <tr>\n",
       "      <th>4</th>\n",
       "      <td>5</td>\n",
       "      <td>male</td>\n",
       "      <td>25.0</td>\n",
       "      <td>120.0</td>\n",
       "      <td>420.0</td>\n",
       "      <td>2.0</td>\n",
       "      <td>70.0</td>\n",
       "      <td>Android</td>\n",
       "      <td>Undecided</td>\n",
       "      <td>Agree</td>\n",
       "    </tr>\n",
       "  </tbody>\n",
       "</table>\n",
       "</div>"
      ],
      "text/plain": [
       "   id  gender  instagram_followers  linkedin_con  texts_yesterday  \\\n",
       "0   1    male                  0.0         642.0             47.0   \n",
       "1   2  female                155.0         157.0            150.0   \n",
       "2   3  female                169.0         119.0             20.0   \n",
       "3   4    male                  NaN         150.0            100.0   \n",
       "4   5    male                 25.0         120.0            420.0   \n",
       "\n",
       "   phones_owned  apps_phone os_phone like_social       like_tech  \n",
       "0           7.0       101.0  Android   Undecided       Undecided  \n",
       "1           8.0        44.0      iOS       Agree           Agree  \n",
       "2           5.0        65.0      iOS       Agree           Agree  \n",
       "3           5.0        67.0  Android       Agree  Strongly agree  \n",
       "4           2.0        70.0  Android   Undecided           Agree  "
      ]
     },
     "execution_count": 3,
     "metadata": {},
     "output_type": "execute_result"
    }
   ],
   "source": [
    "\n",
    "import seaborn as sns\n",
    "import pandas as pd\n",
    "import matplotlib.pyplot as plt\n",
    "from scipy.stats import ttest_ind #Scipy is a package for scientific Python. We need it for the t-test\n",
    "\n",
    "df = pd.read_csv('student_data.csv')\n",
    "df.head()"
   ]
  },
  {
   "cell_type": "code",
   "execution_count": 4,
   "metadata": {},
   "outputs": [
    {
     "data": {
      "image/png": "[encoded data removed]",
      "text/plain": [
       "<Figure size 360x360 with 1 Axes>"
      ]
     },
     "metadata": {},
     "output_type": "display_data"
    }
   ],
   "source": [
    "sns.catplot(x='gender',y='phones_owned',data=df)\n",
    "plt.title('Amount of phones owned by gender')\n",
    "plt.ylabel('Amount of phones')\n",
    "plt.xlabel('Gender')\n",
    "plt.show()"
   ]
  },
  {
   "cell_type": "code",
   "execution_count": 8,
   "metadata": {},
   "outputs": [
    {
     "name": "stdout",
     "output_type": "stream",
     "text": [
      "The mean rating for phones owned by male is 6.666666666666667\n",
      "The mean rating for phones owned by female 7.222222222222222\n"
     ]
    }
   ],
   "source": [
    "male = df[df['gender']=='male'] #this gets us a dataframe with only the paid apps\n",
    "female = df[df['gender']=='female'] #ditto for the free apps\n",
    "\n",
    "male_mean = male['phones_owned'].mean()\n",
    "female_mean = female['phones_owned'].mean()\n",
    "print(f'The mean rating for phones owned by male is {male_mean}')\n",
    "print(f'The mean rating for phones owned by female {female_mean}')"
   ]
  },
  {
   "cell_type": "code",
   "execution_count": 9,
   "metadata": {},
   "outputs": [
    {
     "data": {
      "text/plain": [
       "Ttest_indResult(statistic=-0.27724929850975316, pvalue=0.7841771653628578)"
      ]
     },
     "execution_count": 9,
     "metadata": {},
     "output_type": "execute_result"
    }
   ],
   "source": [
    "#t-test\n",
    "#By using the argument nan_policy we are telling Python to drop the NA's (otherwise, we would get an error)\n",
    "ttest_ind(male['phones_owned'], female['phones_owned'], nan_policy='omit')\n",
    "#H0 males own just as much phones as females\n",
    "#H1 males dont own as much phones as females"
   ]
  },
  {
   "cell_type": "code",
   "execution_count": null,
   "metadata": {},
   "outputs": [],
   "source": [
    "#"
   ]
  }
 ],
 "metadata": {
  "kernelspec": {
   "display_name": "Python 3",
   "language": "python",
   "name": "python3"
  },
  "language_info": {
   "codemirror_mode": {
    "name": "ipython",
    "version": 3
   },
   "file_extension": ".py",
   "mimetype": "text/x-python",
   "name": "python",
   "nbconvert_exporter": "python",
   "pygments_lexer": "ipython3",
   "version": "3.6.5"
  }
 },
 "nbformat": 4,
 "nbformat_minor": 2
}
