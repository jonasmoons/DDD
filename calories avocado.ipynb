{
 "cells": [
  {
   "cell_type": "code",
   "execution_count": 13,
   "metadata": {},
   "outputs": [
    {
     "name": "stdout",
     "output_type": "stream",
     "text": [
      "Amount of eaten avocados 0\n",
      "You havent eaten any\n"
     ]
    }
   ],
   "source": [
    "# Define calories\n",
    "calories = 240\n",
    "carbohydrate = 46\n",
    "fat = 184\n",
    "avocados = input(\"Amount of eaten avocados \")\n",
    "\n",
    "\n",
    "if avocados == \"0\":\n",
    "    print(\"You havent eaten any\")\n",
    "    \n",
    "else:\n",
    "    print(\"You've eaten \" + str(int(avocados) * calories) +\" Calories\"  )\n",
    "    print(\"You've eaten \" + str(int(avocados) * carbohydrate)  + \" carbohydrates\"  )\n",
    "    print(\"You've eaten \" + str(int(avocados) * fat) + \" fat\"  )\n",
    "    "
   ]
  },
  {
   "cell_type": "code",
   "execution_count": null,
   "metadata": {},
   "outputs": [],
   "source": []
  }
 ],
 "metadata": {},
 "nbformat": 4,
 "nbformat_minor": 2
}
