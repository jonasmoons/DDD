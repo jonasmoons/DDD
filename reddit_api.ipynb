{
 "cells": [
  {
   "cell_type": "code",
   "execution_count": 1,
   "metadata": {},
   "outputs": [],
   "source": [
    "import praw\n",
    "import pandas as pd"
   ]
  },
  {
   "cell_type": "code",
   "execution_count": 2,
   "metadata": {},
   "outputs": [],
   "source": [
    "CLIENT_ID = \"UbL8sGmZmrah2Q\"\n",
    "CLIENT_SECRET = \"LQu2F5YZQcyONTe6nPavo263eTE\"\n",
    "USER_AGENT = f\"python:{CLIENT_ID}:0.1 (by /u/exe188)\""
   ]
  },
  {
   "cell_type": "code",
   "execution_count": 13,
   "metadata": {},
   "outputs": [],
   "source": []
  },
  {
   "cell_type": "code",
   "execution_count": 4,
   "metadata": {},
   "outputs": [],
   "source": [
    "api = praw.Reddit(\n",
    "    client_id = CLIENT_ID,\n",
    "    client_secret = CLIENT_SECRET,\n",
    "    user_agent = USER_AGENT\n",
    ")"
   ]
  },
  {
   "cell_type": "code",
   "execution_count": 5,
   "metadata": {},
   "outputs": [
    {
     "data": {
      "text/plain": [
       "True"
      ]
     },
     "execution_count": 5,
     "metadata": {},
     "output_type": "execute_result"
    }
   ],
   "source": [
    "api.read_only"
   ]
  },
  {
   "cell_type": "code",
   "execution_count": 11,
   "metadata": {},
   "outputs": [],
   "source": [
    "items = []\n",
    "\n",
    "submissions = api.subreddit(\"Music\").hot(limit = 10)\n",
    "\n",
    "for submission in submissions:\n",
    "    item = {\n",
    "        \"title\" : submission.title,\n",
    "        \"score\" : submission.score,\n",
    "        \"num_comments\" : submission.num_comments\n",
    "    }\n",
    "    items.append(item)"
   ]
  },
  {
   "cell_type": "code",
   "execution_count": 14,
   "metadata": {},
   "outputs": [],
   "source": [
    "df = pd.DataFrame(items)\n",
    "df.to_json(\"reddit-api.json\")"
   ]
  },
  {
   "cell_type": "code",
   "execution_count": 15,
   "metadata": {},
   "outputs": [
    {
     "name": "stdout",
     "output_type": "stream",
     "text": [
      "[{'title': 'Tank and The Bangas in the House, Ask Us Anything! AMA', 'score': 80, 'num_comments': 59}, {'title': 'I am Ella Mai…My Self-Titled Debut Album is Out Now!…Ask Me Anything.', 'score': 68, 'num_comments': 159}, {'title': 'Vulfpeck - Cory Wong [Funk] (2017)', 'score': 5494, 'num_comments': 334}, {'title': 'Taking Back Sunday - Make Damn Sure [Punk]', 'score': 112, 'num_comments': 12}, {'title': \"Don McLean - Vincent [folk rock] Don McLean's tribute to Vincent van Gogh\", 'score': 751, 'num_comments': 79}, {'title': 'Charles Bradley - Changes [Soul]', 'score': 36, 'num_comments': 3}, {'title': 'Breaking Benjamin - The Diary of Jane [Rock]', 'score': 19, 'num_comments': 1}, {'title': 'Men Without Hats - The Safety Dance (Live) [Synth-Pop]', 'score': 220, 'num_comments': 21}, {'title': 'Ghost - Square Hammer [Rock]', 'score': 65, 'num_comments': 9}, {'title': 'Brand New - Degausser [Rock]', 'score': 9291, 'num_comments': 1111}]\n"
     ]
    }
   ],
   "source": [
    "print(items)"
   ]
  },
  {
   "cell_type": "code",
   "execution_count": null,
   "metadata": {},
   "outputs": [],
   "source": []
  }
 ],
 "metadata": {
  "kernelspec": {
   "display_name": "Python 3",
   "language": "python",
   "name": "python3"
  },
  "language_info": {
   "codemirror_mode": {
    "name": "ipython",
    "version": 3
   },
   "file_extension": ".py",
   "mimetype": "text/x-python",
   "name": "python",
   "nbconvert_exporter": "python",
   "pygments_lexer": "ipython3",
   "version": "3.6.5"
  }
 },
 "nbformat": 4,
 "nbformat_minor": 2
}
